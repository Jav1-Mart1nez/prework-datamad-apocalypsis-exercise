{
 "cells": [
  {
   "cell_type": "markdown",
   "metadata": {},
   "source": [
    "# Apocalipsis zombie\n",
    "\n",
    "![](./images/thewalkingdead.jpeg)\n",
    "\n",
    "Cargas un arsenal de armas y una mochila con cargadores de munición de tamaño variable para algunos tipos de armas. ¿Cuántos zombies puedes matar antes de tener que echar a correr por tu vida? Deberás imprimir el resultado de cada caso que corresponde al número de balas que tienes de las armas que cargas.  \n",
    "\n",
    "ALGORITMO: Por cada arma diferente que cargas, tienes que comprobar si portas cargadores para ella. Si esto es afirmativo deberás sumar el total de balas que podrás disparar. "
   ]
  },
  {
   "cell_type": "markdown",
   "metadata": {},
   "source": [
    "## Caso 0: Ejemplo simple"
   ]
  },
  {
   "cell_type": "code",
   "execution_count": 25,
   "metadata": {},
   "outputs": [
    {
     "name": "stdout",
     "output_type": "stream",
     "text": [
      "True\n",
      "True\n",
      "la suma total de cargadores es de 30\n"
     ]
    }
   ],
   "source": [
    "armas = ['pistola','escopeta']\n",
    "\n",
    "cargadores = {\n",
    "    'pistola': [10, 10], \n",
    "    'escopeta': [2, 2, 2, 2, 2]\n",
    "}\n",
    "\n",
    "# your code\n",
    "\n",
    "print(\"pistola\" in armas)\n",
    "print(\"escopeta\" in armas)\n",
    "\n",
    "for i in armas:\n",
    "    if \"pistola\" in armas:\n",
    "        p0=sum(cargadores[\"pistola\"])\n",
    "    else:\n",
    "        p0=0\n",
    "    if \"escopeta\" in armas:\n",
    "        e0=sum(cargadores[\"escopeta\"])\n",
    "    else:\n",
    "        e0=0\n",
    "print(\"la suma total de cargadores es de\", p0+e0)"
   ]
  },
  {
   "cell_type": "markdown",
   "metadata": {},
   "source": [
    "**Output esperado** -> 30"
   ]
  },
  {
   "cell_type": "markdown",
   "metadata": {},
   "source": [
    "## Caso 1: Mismas armas que municiones"
   ]
  },
  {
   "cell_type": "code",
   "execution_count": 26,
   "metadata": {},
   "outputs": [
    {
     "name": "stdout",
     "output_type": "stream",
     "text": [
      "True\n",
      "True\n",
      "True\n",
      "True\n",
      "la suma total de cargadores es de 158\n"
     ]
    }
   ],
   "source": [
    "armas = ['pistola', 'ametralladora', 'escopeta', 'fusil de francotirador']\n",
    "\n",
    "cargadores = {\n",
    "    'pistola': [12, 13, 4, 5, 20, 17], \n",
    "    'ametralladora': [33, 40], \n",
    "    'escopeta': [2, 2, 2, 1], \n",
    "    'fusil de francotirador': [1, 2, 4]\n",
    "}\n",
    "\n",
    "# your code\n",
    "\n",
    "print(\"pistola\" in armas)\n",
    "print(\"ametralladora\" in armas)\n",
    "print(\"escopeta\" in armas)\n",
    "print(\"fusil de francotirador\" in armas)\n",
    "\n",
    "for j in armas:\n",
    "    if \"pistola\" in armas:\n",
    "        p1=sum(cargadores[\"pistola\"])\n",
    "    else:\n",
    "        p1=0\n",
    "    if \"ametralladora\" in armas:\n",
    "        a1=sum(cargadores[\"ametralladora\"])\n",
    "    else:\n",
    "        a1=0\n",
    "    if \"escopeta\" in armas:\n",
    "        e1=sum(cargadores[\"escopeta\"])\n",
    "    else:\n",
    "        e1=0\n",
    "    if \"fusil de francotirador\" in armas:\n",
    "        f1=sum(cargadores[\"fusil de francotirador\"])\n",
    "    else:\n",
    "        f1=0\n",
    "print(\"la suma total de cargadores es de\", p1+a1+e1+f1)\n"
   ]
  },
  {
   "cell_type": "markdown",
   "metadata": {},
   "source": [
    "## Caso 2: Más tipos de munición que armas"
   ]
  },
  {
   "cell_type": "code",
   "execution_count": 27,
   "metadata": {},
   "outputs": [
    {
     "name": "stdout",
     "output_type": "stream",
     "text": [
      "True\n",
      "True\n",
      "True\n",
      "True\n",
      "False\n",
      "bazoka is not in armas\n",
      "la suma total de cargadores es de 158\n"
     ]
    }
   ],
   "source": [
    "armas = ['pistola', 'ametralladora', 'escopeta', 'fusil de francotirador']\n",
    "\n",
    "cargadores = {\n",
    "    'pistola': [12, 13, 4, 5, 20, 17], \n",
    "    'ametralladora': [33, 40], \n",
    "    'escopeta': [2, 2, 2, 1], \n",
    "    'fusil de francotirador': [1, 2, 4], \n",
    "    'bazoka': [1, 1]\n",
    "}\n",
    "\n",
    "# your code\n",
    "\n",
    "print(\"pistola\" in armas)\n",
    "print(\"ametralladora\" in armas)\n",
    "print(\"escopeta\" in armas)\n",
    "print(\"fusil de francotirador\" in armas)\n",
    "print(\"bazoka\" in armas)\n",
    "\n",
    "print(\"bazoka is not in armas\")\n",
    "\n",
    "for cargador in armas:\n",
    "    if \"pistola\" in armas:\n",
    "        p2=sum(cargadores[\"pistola\"])\n",
    "    else:\n",
    "        p2=0\n",
    "    if \"ametralladora\" in armas:\n",
    "        a2=sum(cargadores[\"ametralladora\"])\n",
    "    else:\n",
    "        a2=0\n",
    "    if \"escopeta\" in armas:\n",
    "        e2=sum(cargadores[\"escopeta\"])\n",
    "    else:\n",
    "        e2=0\n",
    "    if \"fusil de francotirador\" in armas:\n",
    "        f2=sum(cargadores[\"fusil de francotirador\"])\n",
    "    else:\n",
    "        f2=0\n",
    "    if \"bazoka\" in armas:\n",
    "        b2=sum(cargadores[\"bazoka\"])\n",
    "    else:\n",
    "        b2=0\n",
    "\n",
    "print(\"la suma total de cargadores es de\", p2+a2+e2+f2+b2)"
   ]
  },
  {
   "cell_type": "markdown",
   "metadata": {},
   "source": [
    "## Caso 3: Más armas que tipos de munición"
   ]
  },
  {
   "cell_type": "code",
   "execution_count": 28,
   "metadata": {},
   "outputs": [
    {
     "name": "stdout",
     "output_type": "stream",
     "text": [
      "True\n",
      "True\n",
      "True\n",
      "True\n",
      "{'pistola': [12, 13, 4, 5, 20, 17], 'ametralladora': [33, 40], 'escopeta': [2, 2, 2, 1], 'fusil de francotirador': [0]}\n",
      "la suma total de cargadores es de 151\n"
     ]
    }
   ],
   "source": [
    "armas = ['pistola', 'ametralladora', 'escopeta', 'fusil de francotirador']\n",
    "\n",
    "cargadores = {\n",
    "    'pistola': [12, 13, 4, 5, 20, 17], \n",
    "    'ametralladora': [33, 40], \n",
    "    'escopeta': [2, 2, 2, 1] \n",
    "}\n",
    "\n",
    "# your code\n",
    "\n",
    "print(\"pistola\" in armas)\n",
    "print(\"ametralladora\" in armas)\n",
    "print(\"escopeta\" in armas)\n",
    "print(\"fusil de francotirador\" in armas)\n",
    "\n",
    "cargadores[\"fusil de francotirador\"]=[0]\n",
    "print(cargadores)\n",
    "\n",
    "for balas in armas:\n",
    "    if \"pistola\" in armas:\n",
    "        p3=sum(cargadores[\"pistola\"])\n",
    "    else:\n",
    "        p3=0\n",
    "    if \"ametralladora\" in armas:\n",
    "        a3=sum(cargadores[\"ametralladora\"])\n",
    "    else:\n",
    "        a3=0\n",
    "    if \"escopeta\" in armas:\n",
    "        e3=sum(cargadores[\"escopeta\"])\n",
    "    else:\n",
    "        e3=0\n",
    "    if \"fusil de francotirador\" in armas:\n",
    "        f3=sum(cargadores[\"fusil de francotirador\"])\n",
    "    else:\n",
    "        f3=0\n",
    "\n",
    "print(\"la suma total de cargadores es de\", p3+a3+e3+f3)"
   ]
  },
  {
   "cell_type": "code",
   "execution_count": null,
   "metadata": {},
   "outputs": [],
   "source": []
  },
  {
   "cell_type": "code",
   "execution_count": null,
   "metadata": {},
   "outputs": [],
   "source": []
  },
  {
   "cell_type": "code",
   "execution_count": null,
   "metadata": {},
   "outputs": [],
   "source": []
  }
 ],
 "metadata": {
  "kernelspec": {
   "display_name": "Python 3",
   "language": "python",
   "name": "python3"
  },
  "language_info": {
   "codemirror_mode": {
    "name": "ipython",
    "version": 3
   },
   "file_extension": ".py",
   "mimetype": "text/x-python",
   "name": "python",
   "nbconvert_exporter": "python",
   "pygments_lexer": "ipython3",
   "version": "3.7.6"
  }
 },
 "nbformat": 4,
 "nbformat_minor": 2
}
